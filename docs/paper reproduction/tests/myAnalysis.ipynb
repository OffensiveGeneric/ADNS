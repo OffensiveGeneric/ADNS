{
 "cells": [
  {
   "cell_type": "code",
   "execution_count": 1,
   "id": "b42d7c23-0496-4012-a4d8-fcb92f513faa",
   "metadata": {},
   "outputs": [
    {
     "name": "stdout",
     "output_type": "stream",
     "text": [
      "✅ Successfully imported sarima_retraining.py\n",
      "📂 Data folder is set to: X:\\\\DataSet\\\\Data\n"
     ]
    }
   ],
   "source": [
    "# --- Setup Environment ---\n",
    "\n",
    "import sys\n",
    "import os\n",
    "\n",
    "# Add Code folder (where sarima_retraining.py is) to Python path\n",
    "CODE_DIR = r\"X:\\\\DataSet\\\\Code\"\n",
    "DATA_DIR = r\"X:\\\\DataSet\\\\Data\"\n",
    "\n",
    "if CODE_DIR not in sys.path:\n",
    "    sys.path.append(CODE_DIR)\n",
    "\n",
    "# Now you can import custom scripts like sarima_retraining.py\n",
    "try:\n",
    "    import sarima_retraining\n",
    "    print(\"✅ Successfully imported sarima_retraining.py\")\n",
    "except ImportError as e:\n",
    "    print(f\"❌ Failed to import: {e}\")\n",
    "\n",
    "# Global path to dataset\n",
    "print(f\"📂 Data folder is set to: {DATA_DIR}\")\n",
    "\n",
    "# --- After this cell, you can proceed to run analyze-results.ipynb normally ---"
   ]
  },
  {
   "cell_type": "code",
   "execution_count": 2,
   "id": "d1c724b9-9fe1-49fc-a372-3f7011900cf3",
   "metadata": {},
   "outputs": [
    {
     "ename": "ModuleNotFoundError",
     "evalue": "No module named 'sarina'",
     "output_type": "error",
     "traceback": [
      "\u001b[1;31m---------------------------------------------------------------------------\u001b[0m",
      "\u001b[1;31mModuleNotFoundError\u001b[0m                       Traceback (most recent call last)",
      "Cell \u001b[1;32mIn[2], line 6\u001b[0m\n\u001b[0;32m      4\u001b[0m \u001b[38;5;28;01mimport\u001b[39;00m\u001b[38;5;250m \u001b[39m\u001b[38;5;21;01mpandas\u001b[39;00m\u001b[38;5;250m \u001b[39m\u001b[38;5;28;01mas\u001b[39;00m\u001b[38;5;250m \u001b[39m\u001b[38;5;21;01mpd\u001b[39;00m\n\u001b[0;32m      5\u001b[0m \u001b[38;5;28;01mimport\u001b[39;00m\u001b[38;5;250m \u001b[39m\u001b[38;5;21;01mmatplotlib\u001b[39;00m\u001b[38;5;21;01m.\u001b[39;00m\u001b[38;5;21;01mpyplot\u001b[39;00m\u001b[38;5;250m \u001b[39m\u001b[38;5;28;01mas\u001b[39;00m\u001b[38;5;250m \u001b[39m\u001b[38;5;21;01mplt\u001b[39;00m\n\u001b[1;32m----> 6\u001b[0m \u001b[38;5;28;01mimport\u001b[39;00m\u001b[38;5;250m \u001b[39m\u001b[38;5;21;01msarina\u001b[39;00m  \u001b[38;5;66;03m# This assumes sarina.py is in the correct folder\u001b[39;00m\n\u001b[0;32m      8\u001b[0m \u001b[38;5;66;03m# Settings\u001b[39;00m\n\u001b[0;32m      9\u001b[0m DATASET_DIR \u001b[38;5;241m=\u001b[39m \u001b[38;5;124mr\u001b[39m\u001b[38;5;124m\"\u001b[39m\u001b[38;5;124mX:\u001b[39m\u001b[38;5;124m\\\u001b[39m\u001b[38;5;124mDataSet\u001b[39m\u001b[38;5;124m\"\u001b[39m\n",
      "\u001b[1;31mModuleNotFoundError\u001b[0m: No module named 'sarina'"
     ]
    }
   ],
   "source": [
    "# Second cell: Perform the analysis after setting up paths and importing Sarina\n",
    "\n",
    "import os\n",
    "import pandas as pd\n",
    "import matplotlib.pyplot as plt\n",
    "import sarina  # This assumes sarina.py is in the correct folder\n",
    "\n",
    "# Settings\n",
    "DATASET_DIR = r\"X:\\DataSet\"\n",
    "DATA_DIR = os.path.join(DATASET_DIR, \"Data\")\n",
    "INSTITUTION_DIR = os.path.join(DATASET_DIR, \"institutions\")\n",
    "SUBNET_DIR = os.path.join(DATASET_DIR, \"institution_subnets\")\n",
    "\n",
    "# Load the institution information\n",
    "institution_df = sarina.load_institutions(INSTITUTION_DIR)\n",
    "subnet_df = sarina.load_subnets(SUBNET_DIR)\n",
    "\n",
    "# Load the dataset (sample or full depending on your needs)\n",
    "all_files = []\n",
    "for root, dirs, files in os.walk(DATA_DIR):\n",
    "    for file in files:\n",
    "        if file.endswith(\".csv\"):\n",
    "            all_files.append(os.path.join(root, file))\n",
    "\n",
    "print(f\"Loaded {len(all_files)} CSV files.\")\n",
    "\n",
    "# Merge all CSVs into one DataFrame\n",
    "list_df = []\n",
    "for file in all_files:\n",
    "    try:\n",
    "        df = pd.read_csv(file)\n",
    "        list_df.append(df)\n",
    "    except Exception as e:\n",
    "        print(f\"Failed to load {file}: {e}\")\n",
    "\n",
    "data = pd.concat(list_df, ignore_index=True)\n",
    "print(f\"Merged dataset shape: {data.shape}\")\n",
    "\n",
    "# Prepare data\n",
    "features = ['n_flows', 'n_packets', 'n_bytes']\n",
    "data = data.dropna(subset=features)\n",
    "\n",
    "# Run anomaly detection using Isolation Forest\n",
    "from sklearn.preprocessing import MinMaxScaler\n",
    "from sklearn.ensemble import IsolationForest\n",
    "\n",
    "scaler = MinMaxScaler()\n",
    "X_scaled = scaler.fit_transform(data[features])\n",
    "\n",
    "iso_model = IsolationForest(contamination=0.01, random_state=42)\n",
    "iso_model.fit(X_scaled)\n",
    "\n",
    "preds = iso_model.predict(X_scaled)\n",
    "\n",
    "data['anomaly'] = preds\n",
    "\n",
    "# Plot graphs\n",
    "fig, axes = plt.subplots(len(features), 1, figsize=(15, 8), sharex=True)\n",
    "if len(features) == 1:\n",
    "    axes = [axes]\n",
    "\n",
    "for idx, feat in enumerate(features):\n",
    "    ax = axes[idx]\n",
    "    ax.plot(data.index, data[feat], label=feat, color='blue')\n",
    "    anomaly_idx = data[data['anomaly'] == -1].index\n",
    "    ax.scatter(anomaly_idx, data.loc[anomaly_idx, feat], color='red', label='Anomaly', s=10)\n",
    "    ax.set_ylabel(feat)\n",
    "    ax.legend()\n",
    "    ax.grid(True)\n",
    "\n",
    "plt.xlabel('Index')\n",
    "plt.suptitle('Isolation Forest Anomaly Detection on CESNET Dataset', fontsize=16)\n",
    "plt.tight_layout()\n",
    "plt.show()\n",
    "\n",
    "print(\"✅ Analysis and plotting complete!\")\n"
   ]
  },
  {
   "cell_type": "code",
   "execution_count": null,
   "id": "41c88914-85ba-4c0a-ab04-40184c677651",
   "metadata": {},
   "outputs": [],
   "source": []
  }
 ],
 "metadata": {
  "kernelspec": {
   "display_name": "Python 3 (ipykernel)",
   "language": "python",
   "name": "python3"
  },
  "language_info": {
   "codemirror_mode": {
    "name": "ipython",
    "version": 3
   },
   "file_extension": ".py",
   "mimetype": "text/x-python",
   "name": "python",
   "nbconvert_exporter": "python",
   "pygments_lexer": "ipython3",
   "version": "3.10.11"
  }
 },
 "nbformat": 4,
 "nbformat_minor": 5
}
