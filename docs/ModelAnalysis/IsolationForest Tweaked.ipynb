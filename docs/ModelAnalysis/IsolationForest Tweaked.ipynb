{
 "cells": [
  {
   "cell_type": "code",
   "execution_count": 4,
   "id": "7252915a-9163-4cb3-987d-e5f411e812a7",
   "metadata": {},
   "outputs": [
    {
     "name": "stderr",
     "output_type": "stream",
     "text": [
      "100%|██████████████████████████████████████████████████████████████████████████████| 1829/1829 [00:27<00:00, 65.93it/s]\n"
     ]
    },
    {
     "name": "stdout",
     "output_type": "stream",
     "text": [
      "Best Isolation Forest Model\n",
      "F1-score: 0.8292682926829268\n",
      "              precision    recall  f1-score    support\n",
      "0              0.999189  0.996562  0.997874  4945.0000\n",
      "1              0.750000  0.927273  0.829268    55.0000\n",
      "accuracy       0.995800  0.995800  0.995800     0.9958\n",
      "macro avg      0.874594  0.961917  0.913571  5000.0000\n",
      "weighted avg   0.996448  0.995800  0.996019  5000.0000\n"
     ]
    },
    {
     "data": {
      "image/png": "[encoded data removed]",
      "text/plain": [
       "<Figure size 600x500 with 2 Axes>"
      ]
     },
     "metadata": {},
     "output_type": "display_data"
    }
   ],
   "source": [
    "import os\n",
    "import pandas as pd\n",
    "import numpy as np\n",
    "from sklearn.ensemble import IsolationForest\n",
    "from sklearn.metrics import classification_report, confusion_matrix\n",
    "from sklearn.model_selection import train_test_split\n",
    "import matplotlib.pyplot as plt\n",
    "import seaborn as sns\n",
    "from tqdm import tqdm\n",
    "\n",
    "# Paths and settings\n",
    "BASE_DIR = \"X:/DataSet/Data\"\n",
    "AGG_LEVELS = [\"agg_1_hour\"]  # using 1-hour aggregation\n",
    "FOLDERS = [\"institutions\", \"institution_subnets\", \"ip_addresses_full\", \"ip_addresses_sample\"]\n",
    "SELECTED_FEATURES = [\n",
    "    \"n_flows\", \"n_packets\", \"n_bytes\", \"avg_duration\",\n",
    "    \"tcp_udp_ratio_packets\", \"tcp_udp_ratio_bytes\",\n",
    "    \"dir_ratio_packets\", \"dir_ratio_bytes\",\n",
    "    \"avg_ttl\", \"sum_n_dest_ports\", \"average_n_dest_ports\", \"std_n_dest_ports\",\n",
    "    \"sum_n_dest_ip\", \"average_n_dest_ip\", \"std_n_dest_ip\",\n",
    "    \"sum_n_dest_asn\", \"average_n_dest_asn\", \"std_n_dest_asn\"\n",
    "]\n",
    "\n",
    "# Load up to 50,000 CSVs\n",
    "all_files = []\n",
    "for folder in FOLDERS:\n",
    "    for agg in AGG_LEVELS:\n",
    "        dir_path = os.path.join(BASE_DIR, folder, agg)\n",
    "        if os.path.exists(dir_path):\n",
    "            all_files += [os.path.join(dir_path, f) for f in os.listdir(dir_path) if f.endswith(\".csv\")]\n",
    "\n",
    "subset_files = all_files[:50000]\n",
    "df_list = []\n",
    "for f in tqdm(subset_files):\n",
    "    try:\n",
    "        df = pd.read_csv(f)\n",
    "        common_features = [feat for feat in SELECTED_FEATURES if feat in df.columns]\n",
    "        if common_features:\n",
    "            df_list.append(df[common_features])\n",
    "    except:\n",
    "        continue\n",
    "\n",
    "if not df_list:\n",
    "    raise ValueError(\"No valid files loaded. Please check selected features and file contents.\")\n",
    "\n",
    "full_df = pd.concat(df_list, ignore_index=True).dropna()\n",
    "\n",
    "# Feature engineering\n",
    "full_df['packets_per_flow'] = full_df['n_packets'] / (full_df['n_flows'] + 1)\n",
    "full_df['bytes_per_packet'] = full_df['n_bytes'] / (full_df['n_packets'] + 1)\n",
    "full_df['flows_to_ports_ratio'] = full_df['n_flows'] / (full_df.get('sum_n_dest_ports', 1) + 1)\n",
    "\n",
    "# Label anomalies: top 1% n_flows\n",
    "full_df['anomaly'] = (full_df['n_flows'] > full_df['n_flows'].quantile(0.99)).astype(int)\n",
    "\n",
    "X = full_df.drop(columns=['anomaly'])\n",
    "y = full_df['anomaly']\n",
    "X_train, X_test, y_train, y_test = train_test_split(X, y, test_size=5000, train_size=45000, random_state=42)\n",
    "\n",
    "# Isolation Forest tuning\n",
    "best_score = 0\n",
    "best_model = None\n",
    "best_report = None\n",
    "best_cm = None\n",
    "\n",
    "for contamination in [0.01, 0.015, 0.02, 0.03]:\n",
    "    model = IsolationForest(n_estimators=100, contamination=contamination, random_state=42, n_jobs=-1)\n",
    "    model.fit(X_train)\n",
    "    y_pred = model.predict(X_test)\n",
    "    y_pred = np.where(y_pred == -1, 1, 0)\n",
    "    report = classification_report(y_test, y_pred, output_dict=True)\n",
    "    f1 = report['1']['f1-score']\n",
    "    if f1 > best_score:\n",
    "        best_score = f1\n",
    "        best_model = model\n",
    "        best_report = report\n",
    "        best_cm = confusion_matrix(y_test, y_pred)\n",
    "\n",
    "# Results\n",
    "print(\"Best Isolation Forest Model\")\n",
    "print(\"F1-score:\", best_score)\n",
    "print(pd.DataFrame(best_report).transpose())\n",
    "\n",
    "plt.figure(figsize=(6, 5))\n",
    "sns.heatmap(best_cm, annot=True, fmt='d', cmap=\"Blues\")\n",
    "plt.title(\"Best Isolation Forest Confusion Matrix\")\n",
    "plt.show()\n"
   ]
  },
  {
   "cell_type": "code",
   "execution_count": null,
   "id": "591528e6-b64b-446f-b2c6-ef7098d8a082",
   "metadata": {},
   "outputs": [],
   "source": []
  }
 ],
 "metadata": {
  "kernelspec": {
   "display_name": "Python 3 (ipykernel)",
   "language": "python",
   "name": "python3"
  },
  "language_info": {
   "codemirror_mode": {
    "name": "ipython",
    "version": 3
   },
   "file_extension": ".py",
   "mimetype": "text/x-python",
   "name": "python",
   "nbconvert_exporter": "python",
   "pygments_lexer": "ipython3",
   "version": "3.10.11"
  }
 },
 "nbformat": 4,
 "nbformat_minor": 5
}
